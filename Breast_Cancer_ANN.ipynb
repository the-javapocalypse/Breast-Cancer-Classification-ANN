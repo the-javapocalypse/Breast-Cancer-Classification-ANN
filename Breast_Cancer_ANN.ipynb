{
 "cells": [
  {
   "cell_type": "markdown",
   "metadata": {
    "_cell_guid": "6d07a6dc-adad-4dfb-8834-8a8b6b0be446",
    "_uuid": "4f662652fa3314cb49eb7529f6457fbcb2584c26"
   },
   "source": [
    "# Introduction:\n",
    "In this workbook, I trained an ***ANN*** (Artificial Neural Network) using ***Keras***  to classify tumors into Malignant or Benign type, when provided with the tumor's dimensions. In the output we will have probability of tumor of belonging to either Malignant or Benign class. The whole project is divided into 3 parts.\n",
    "1. Data pre-processing and quick analysis\n",
    "2. Building ANN\n",
    "3. Making Predictions\n",
    "So let's get started!"
   ]
  },
  {
   "cell_type": "markdown",
   "metadata": {
    "_cell_guid": "5bae9fc2-4a61-4b0b-a02b-d271ecc3b521",
    "_uuid": "8057c684a32eed050024536dbaf7ece325c4d7d8"
   },
   "source": [
    "# 1. Pre-Processing Dataset\n",
    "\n",
    "## Loading Dataset"
   ]
  },
  {
   "cell_type": "code",
   "execution_count": null,
   "metadata": {
    "_cell_guid": "e47e1ab2-4f86-41f3-b072-8978068c4d4e",
    "_uuid": "ca23d95e0557bed6cb641cd908ace3ce61a55ef2",
    "collapsed": true
   },
   "outputs": [],
   "source": [
    "import numpy as np\n",
    "import matplotlib.pyplot as plt\n",
    "import pandas as pd\n",
    "\n",
    "dataset = pd.read_csv('../input/data.csv')"
   ]
  },
  {
   "cell_type": "markdown",
   "metadata": {
    "_cell_guid": "5fd2a0ed-622d-421e-89c9-989ea9f8eeb7",
    "_uuid": "634ee4633c80a2ed5028b81f92740f735ca9c2b7"
   },
   "source": [
    "Now let's  have a quick look on our dataset. "
   ]
  },
  {
   "cell_type": "code",
   "execution_count": null,
   "metadata": {
    "_cell_guid": "88d7de89-9ff7-46ba-9517-9aed0d00f969",
    "_uuid": "5f14184ee517dde98bed832ad704f6476ea81ad4",
    "collapsed": true
   },
   "outputs": [],
   "source": [
    "def dataSetAnalysis(df):\n",
    "    #view starting values of data set\n",
    "    print(\"Dataset Head\")\n",
    "    print(df.head(3))\n",
    "    print(\"=\" * 30)\n",
    "    \n",
    "    # View features in data set\n",
    "    print(\"Dataset Features\")\n",
    "    print(df.columns.values)\n",
    "    print(\"=\" * 30)\n",
    "    \n",
    "    # View How many samples and how many missing values for each feature\n",
    "    print(\"Dataset Features Details\")\n",
    "    print(df.info())\n",
    "    print(\"=\" * 30)\n",
    "    \n",
    "    # view distribution of numerical features across the data set\n",
    "    print(\"Dataset Numerical Features\")\n",
    "    print(df.describe())\n",
    "    print(\"=\" * 30)\n",
    "    \n",
    "    # view distribution of categorical features across the data set\n",
    "    print(\"Dataset Categorical Features\")\n",
    "    print(df.describe(include=['O']))\n",
    "    print(\"=\" * 30)\n",
    "\n",
    "dataSetAnalysis(dataset)"
   ]
  },
  {
   "cell_type": "markdown",
   "metadata": {
    "_cell_guid": "203130f3-9b52-42a4-b2db-2342e13e6ff1",
    "_uuid": "dbdeecfb4b5c692d99e519fd55e680c3e872b415"
   },
   "source": [
    "So we have total of 33 columns, the last column 'Unnamed: 32' contains all null values so we will exclude it. Other than that our label is 'diagnosis'. We will also not include 'id' in our training set since it does not have any effect on the classification. Thus, we are left with 30 features which all are of type float64 and does not contain missing values. Cool! Now let's seprate the features and labels."
   ]
  },
  {
   "cell_type": "code",
   "execution_count": null,
   "metadata": {
    "_cell_guid": "728692e4-2032-4a17-90a1-1fa8824a3afb",
    "_uuid": "c954db52e930feeff9aba82c749628a856e4cf55",
    "collapsed": true
   },
   "outputs": [],
   "source": [
    "X = dataset.iloc[:,2:32] # [all rows, col from index 2 to the last one excluding 'Unnamed: 32']\n",
    "y = dataset.iloc[:,1] # [all rows, col one only which contains the classes of cancer]"
   ]
  },
  {
   "cell_type": "markdown",
   "metadata": {
    "_cell_guid": "3b8b9f5e-6c8b-415f-9456-2e041eeabffa",
    "_uuid": "ca4d4eae2402645678a81a1c1e0e0949fb5383f0",
    "collapsed": true
   },
   "source": [
    "Notice that 'diagnosis' contains 'M' or 'B' to represent Malignant or Benign tumor. Let's encode them to 0 and 1."
   ]
  },
  {
   "cell_type": "code",
   "execution_count": null,
   "metadata": {
    "_cell_guid": "664e53f4-5c82-4be2-af9b-75a0af89d9f2",
    "_uuid": "66298837b491bc20d14354aecfc86b3dc0edc5c0",
    "collapsed": true
   },
   "outputs": [],
   "source": [
    "from sklearn.preprocessing import LabelEncoder\n",
    "\n",
    "print(\"Before encoding: \")\n",
    "print(y[100:110])\n",
    "\n",
    "labelencoder_Y = LabelEncoder()\n",
    "y = labelencoder_Y.fit_transform(y)\n",
    "\n",
    "print(\"\\nAfter encoding: \")\n",
    "print(y[100:110])"
   ]
  },
  {
   "cell_type": "markdown",
   "metadata": {
    "_cell_guid": "e7d74d38-966a-4393-af9f-9b3d3c6cd7d3",
    "_uuid": "c893398a47b96ee816dd53cc0d4bf1e865652af8"
   },
   "source": [
    "## Splitting Dataset\n",
    "\n",
    "Now let's split our data into training and testing datasets."
   ]
  },
  {
   "cell_type": "code",
   "execution_count": null,
   "metadata": {
    "_cell_guid": "6f7937cd-535c-477a-aa9a-547344e3b741",
    "_uuid": "b68fbff8afd3e4fed899b7679f6e6d7b09e8e0df",
    "collapsed": true
   },
   "outputs": [],
   "source": [
    "from sklearn.model_selection import train_test_split\n",
    "\n",
    "X_train, X_test, y_train, y_test = train_test_split(X, y, test_size = 0.2, random_state = 0)"
   ]
  },
  {
   "cell_type": "markdown",
   "metadata": {
    "_cell_guid": "5d3f17a9-5d76-4600-8eff-8d70feeafd0a",
    "_uuid": "451a7c2f3a499dbb52fb92a8915e470b494dd6ca"
   },
   "source": [
    "## Features Scaling\n",
    "Now let's apply features scaling.  Scaling ensures that just because some features are big, the model won't lead to using them as a main predictor ([Read more](https://stackoverflow.com/questions/26225344/why-feature-scaling))"
   ]
  },
  {
   "cell_type": "code",
   "execution_count": null,
   "metadata": {
    "_cell_guid": "0d5e924e-47c2-4487-8044-af23f819fc70",
    "_uuid": "882ad7a0c2de07f30bc8aa05877f41ef4c3e7f7b",
    "collapsed": true
   },
   "outputs": [],
   "source": [
    "from sklearn.preprocessing import StandardScaler\n",
    "\n",
    "sc = StandardScaler()\n",
    "X_train = sc.fit_transform(X_train)\n",
    "X_test = sc.transform(X_test)"
   ]
  },
  {
   "cell_type": "markdown",
   "metadata": {
    "_cell_guid": "3cf76910-08ed-433a-a97a-93ba28fb3566",
    "_uuid": "04e846a24795da97f977b75d46a7410bf874ce7e"
   },
   "source": [
    "# 2. Preparing ANN\n",
    "\n",
    "## Importing Keras and initialising ANN"
   ]
  },
  {
   "cell_type": "markdown",
   "metadata": {
    "_cell_guid": "41d262f9-715c-4c8a-a8dd-7aeddff81f7f",
    "_uuid": "d6a875e67af67ba94e3060e5f3097ed0f593ab2f"
   },
   "source": [
    "## Building the layers\n",
    "\n",
    "Let's build the Layers. We can play around and change number of units but if we are not sure what number to initialize with then simply initialize the units of all layers except the last one with the (number of features + number of output nodes)/2 which equals to 15 in our case. My results were imporved by setting units = 16 for the first layer and decreasing the units in the hidden layers. Also we have to provide input dimension for the first layer only. 'relu' reffers to rectified linear unit and sigmoid reffers to sigmoid activation function. With the help of sigmoid activation function, we can get the probabilities of the classification which might be benificial in some cases to conduct further research. \n",
    "\n",
    "## Tuning Hyper parameters\n",
    "\n",
    "Let's first find the hyper parameters using which model can give more accurate predictions. Here I'll tune batch_size, epochs  and optimizer. This will take some time to run so sit back and relax."
   ]
  },
  {
   "cell_type": "code",
   "execution_count": null,
   "metadata": {
    "_cell_guid": "46088dcf-1939-4022-83e3-6515cc0eebaf",
    "_uuid": "d6fb1e21ab573c8cce74134081701abbdb3e38fb",
    "collapsed": true
   },
   "outputs": [],
   "source": [
    "## I already found out the tuned hyper parameters so commenting the code.\n",
    "\n",
    "# from keras.wrappers.scikit_learn import KerasClassifier\n",
    "# from sklearn.model_selection import GridSearchCV\n",
    "# from keras.models import Sequential\n",
    "# from keras.layers import Dense\n",
    "\n",
    "# def build_classifier(optimizer):\n",
    "#     classifier = Sequential()\n",
    "#     classifier.add(Dense(units = 16, kernel_initializer = 'uniform', activation = 'relu', input_dim = 30))\n",
    "#     classifier.add(Dense(units = 8, kernel_initializer = 'uniform', activation = 'relu'))\n",
    "#     classifier.add(Dense(units = 6, kernel_initializer = 'uniform', activation = 'relu'))\n",
    "#     classifier.add(Dense(units = 1, kernel_initializer = 'uniform', activation = 'sigmoid'))\n",
    "#     classifier.compile(optimizer = optimizer, loss = 'binary_crossentropy', metrics = ['accuracy'])\n",
    "#     return classifier\n",
    "# classifier = KerasClassifier(build_fn = build_classifier)\n",
    "# parameters = {'batch_size': [1, 5],\n",
    "#               'epochs': [100, 120],\n",
    "#               'optimizer': ['adam', 'rmsprop']}\n",
    "# grid_search = GridSearchCV(estimator = classifier,\n",
    "#                            param_grid = parameters,\n",
    "#                            scoring = 'accuracy',\n",
    "#                            cv = 10)\n",
    "# grid_search = grid_search.fit(X_train, y_train)"
   ]
  },
  {
   "cell_type": "markdown",
   "metadata": {
    "_cell_guid": "a7eab2e5-1716-4ca8-8981-99cb38c59c01",
    "_uuid": "954211967ba5a6cd13af0fb3178bcb7fe08f7913"
   },
   "source": [
    "After running the above cell, I got the following results\n",
    "> best_parameters: \n",
    "{'batch_size': 1, 'epochs': 100, 'optimizer': 'rmsprop'}\n",
    "\n",
    "> best_accuracy: \n",
    "0.978021978022"
   ]
  },
  {
   "cell_type": "code",
   "execution_count": null,
   "metadata": {
    "_cell_guid": "7b721ea4-fbfe-4e06-923b-be4a7579158f",
    "_uuid": "87a419fafac19a12f7c5234c8a5a9e21fef0819b",
    "collapsed": true
   },
   "outputs": [],
   "source": [
    "# best_parameters = grid_search.best_params_\n",
    "# best_accuracy = grid_search.best_score_\n",
    "# print(\"best_parameters: \")\n",
    "# print(best_parameters)\n",
    "# print(\"\\nbest_accuracy: \")\n",
    "# print(best_accuracy)"
   ]
  },
  {
   "cell_type": "markdown",
   "metadata": {
    "_cell_guid": "9badd5cc-c9f3-4e49-875a-5030154717eb",
    "_uuid": "4e030f53c2c2b8cc56531030b2be354cd9904db1"
   },
   "source": [
    "Now let's build the neural network with the parameters we found earlier"
   ]
  },
  {
   "cell_type": "code",
   "execution_count": null,
   "metadata": {
    "_cell_guid": "e2d1153e-528b-4f04-82f7-03019bbe32f4",
    "_uuid": "d924e41fc531511bb95d424fd18c58e3d653e4a4",
    "collapsed": true
   },
   "outputs": [],
   "source": [
    "from keras.models import Sequential\n",
    "from keras.layers import Dense\n",
    "\n",
    "classifier = Sequential() # Initialising the ANN\n",
    "\n",
    "classifier.add(Dense(units = 16, kernel_initializer = 'uniform', activation = 'relu', input_dim = 30))\n",
    "classifier.add(Dense(units = 8, kernel_initializer = 'uniform', activation = 'relu'))\n",
    "classifier.add(Dense(units = 6, kernel_initializer = 'uniform', activation = 'relu'))\n",
    "classifier.add(Dense(units = 1, kernel_initializer = 'uniform', activation = 'sigmoid'))"
   ]
  },
  {
   "cell_type": "markdown",
   "metadata": {
    "_cell_guid": "2eccc7c3-219f-4c9a-9cc3-a87dd093eb26",
    "_uuid": "75b554daa26ae97adb4b7c689fd93b62cfeb16f6"
   },
   "source": [
    "## Compiling ANN\n",
    "\n",
    "Compiling classifier. Using adam optimizer. Using binary_crossentropy for loss function since classification is binary, i.e. only two classes 'M' or 'B'."
   ]
  },
  {
   "cell_type": "code",
   "execution_count": null,
   "metadata": {
    "_cell_guid": "5d988f52-7c40-451e-94b6-c445c0c43d61",
    "_uuid": "0f3d07a10db5faa2fbdc08eb36872ff8f18cba14",
    "collapsed": true
   },
   "outputs": [],
   "source": [
    "classifier.compile(optimizer = 'adam', loss = 'binary_crossentropy', metrics = ['accuracy'])"
   ]
  },
  {
   "cell_type": "markdown",
   "metadata": {
    "_cell_guid": "f9055044-1799-411f-8f28-8fa07d7c0000",
    "_uuid": "46149416fcc985eb50db705012720fb078d48bb4"
   },
   "source": [
    "## Fitting the data\n",
    "\n",
    "Now let's fit the data. I trained it with batch size of 1 and 100 epochs and training accuracy was 99.12% and final predictions were 96.49% accurate."
   ]
  },
  {
   "cell_type": "code",
   "execution_count": null,
   "metadata": {
    "_cell_guid": "6b992d8d-8b9e-433d-ae9c-b2520d1d1316",
    "_uuid": "fdfff48d3a537a5734a8102b7ed4b899fd4ddfd4",
    "collapsed": true
   },
   "outputs": [],
   "source": [
    "classifier.fit(X_train, y_train, batch_size = 1, epochs = 100)"
   ]
  },
  {
   "cell_type": "markdown",
   "metadata": {
    "_cell_guid": "940fc664-795a-473a-bc82-f52428de6cef",
    "_uuid": "53c7c72698912ed307f171219b650a21869baacd"
   },
   "source": [
    "## Saving/Loading the model"
   ]
  },
  {
   "cell_type": "code",
   "execution_count": null,
   "metadata": {
    "_cell_guid": "fbe30ee3-9419-4de3-8bc4-dd981961bfe2",
    "_uuid": "a27147e1895f5fe1fc016c731b8b3b8fc05f713a",
    "collapsed": true
   },
   "outputs": [],
   "source": [
    "from keras.models import load_model\n",
    "\n",
    "classifier.save('breast_cancer_model.h5') #Save trained ANN\n",
    "#classifier = load_model('breast_cancer_model.h5')  #Load trained ANN"
   ]
  },
  {
   "cell_type": "markdown",
   "metadata": {
    "_cell_guid": "9a1dfe8b-50d7-44ad-9dee-c55707333126",
    "_uuid": "0753b5ab6d48c8554c647bf03b03799baa948e2a"
   },
   "source": [
    "# 3. Making Predictions\n",
    "\n",
    "\n",
    "Now y_pred contains the probability of tumor being of type Malignant or Benign. We'll assign the results true or false based on their probabilities (if probability >= 0.5 than true else false)"
   ]
  },
  {
   "cell_type": "code",
   "execution_count": null,
   "metadata": {
    "_cell_guid": "3ea865fb-f243-47a1-863c-e0992ac99a34",
    "_uuid": "feb46cca22b10b3a246d9529cfffb6f9d4bcabb6",
    "collapsed": true
   },
   "outputs": [],
   "source": [
    "y_pred = classifier.predict(X_test)\n",
    "y_pred = [ 1 if y>=0.5 else 0 for y in y_pred ]"
   ]
  },
  {
   "cell_type": "markdown",
   "metadata": {
    "_cell_guid": "715e8d99-5dbb-441b-9833-96aa46f12c5d",
    "_uuid": "657ec576ec1f1ea876ad95ca126fca100ff703c1"
   },
   "source": [
    "Now let's print the confusion matrix to check our accuracy. "
   ]
  },
  {
   "cell_type": "code",
   "execution_count": null,
   "metadata": {
    "_cell_guid": "acd6c416-c993-446d-9ce5-bdbca1b70033",
    "_uuid": "a471ab086cbb56c0d175b78fbfaf9333884583a4",
    "collapsed": true
   },
   "outputs": [],
   "source": [
    "from sklearn.metrics import confusion_matrix\n",
    "cm = confusion_matrix(y_test, y_pred)\n",
    "print(cm)\n",
    "\n",
    "accuracy = (cm[0][0]+cm[1][1])/(cm[0][0]+cm[0][1]+cm[1][0]+cm[1][1])\n",
    "print(\"Accuracy: \"+ str(accuracy*100)+\"%\")"
   ]
  },
  {
   "cell_type": "raw",
   "metadata": {
    "_cell_guid": "84938ea2-729d-4e60-a7a6-123627653e28",
    "_uuid": "adaaec50d4f632400948bfea332f3cf39f4f5965"
   },
   "source": []
  }
 ],
 "metadata": {
  "kernelspec": {
   "display_name": "Python 3",
   "language": "python",
   "name": "python3"
  },
  "language_info": {
   "codemirror_mode": {
    "name": "ipython",
    "version": 3
   },
   "file_extension": ".py",
   "mimetype": "text/x-python",
   "name": "python",
   "nbconvert_exporter": "python",
   "pygments_lexer": "ipython3",
   "version": "3.6.1"
  }
 },
 "nbformat": 4,
 "nbformat_minor": 1
}
